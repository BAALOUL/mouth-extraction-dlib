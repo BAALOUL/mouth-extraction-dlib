{
  "nbformat": 4,
  "nbformat_minor": 0,
  "metadata": {
    "colab": {
      "provenance": []
    },
    "kernelspec": {
      "name": "python3",
      "display_name": "Python 3"
    },
    "accelerator": "GPU"
  },
  "cells": [
    {
      "cell_type": "code",
      "metadata": {
        "colab": {
          "base_uri": "https://localhost:8080/"
        },
        "id": "3lspJWvUhqDi",
        "outputId": "38aeb79c-8e55-457b-c569-41c943343c87"
      },
      "source": [
        "from google.colab import drive\n",
        "drive.mount('/content/drive')"
      ],
      "execution_count": 1,
      "outputs": [
        {
          "output_type": "stream",
          "name": "stdout",
          "text": [
            "Mounted at /content/drive\n"
          ]
        }
      ]
    },
    {
      "cell_type": "code",
      "source": [
        "import os\n",
        "import cv2\n",
        "import dlib\n",
        "\n",
        "def shape_to_list(shape):\n",
        "    coords = []\n",
        "    for i in range(0, 68):\n",
        "        coords.append((shape.part(i).x, shape.part(i).y))\n",
        "    return coords\n",
        "\n",
        "# Specify the base path\n",
        "path = '/content/drive/MyDrive/Video_data/'\n",
        "LIP_MARGIN = 0.3\n",
        "RESIZE = (64, 64)\n",
        "\n",
        "# Download the model file\n",
        "!wget http://dlib.net/files/shape_predictor_68_face_landmarks.dat.bz2\n",
        "!bunzip2 shape_predictor_68_face_landmarks.dat.bz2\n",
        "\n",
        "# Path to the model file\n",
        "datFile = \"/content/shape_predictor_68_face_landmarks.dat\"\n",
        "\n",
        "# Load the face detector and landmark detector\n",
        "face_detector = dlib.get_frontal_face_detector()\n",
        "landmark_detector = dlib.shape_predictor(datFile)\n",
        "\n",
        "# Iterate through each folder (p1, p2, p3, etc.)\n",
        "for folder_name in ['p1', 'p2', 'p3']:\n",
        "    VIDEO_PATH = os.path.join(path, folder_name)  # Path to videos\n",
        "    RESULT_PATH = os.path.join(path, folder_name.replace('p', 'r'))  # Path to results\n",
        "\n",
        "    video_list = os.listdir(VIDEO_PATH)  # Read video list\n",
        "\n",
        "    for vid_name in video_list:\n",
        "        vid_path = os.path.join(VIDEO_PATH, vid_name)\n",
        "        vid = cv2.VideoCapture(vid_path)  # Read video\n",
        "\n",
        "        print(vid_name)\n",
        "\n",
        "        frame_buffer = []               # A list to hold frame images\n",
        "        frame_buffer_color = []         # A list to hold original frame images\n",
        "        while True:\n",
        "            success, frame = vid.read()  # Read frame\n",
        "            if not success:\n",
        "                break  # Break if no frame to read left\n",
        "            gray = cv2.cvtColor(frame, cv2.COLOR_BGR2GRAY)\n",
        "            frame_buffer.append(gray)\n",
        "            frame_buffer_color.append(frame)\n",
        "\n",
        "        landmark_buffer = []  # A list to hold face landmark information\n",
        "        for (i, image) in enumerate(frame_buffer):  # Iterate on frame buffer\n",
        "            face_rects = face_detector(image, 1)  # Detect face\n",
        "            if len(face_rects) < 1:  # No face detected\n",
        "                print(\"No face detected: \", vid_path)\n",
        "                break\n",
        "            rect = face_rects[0]  # Proper number of face\n",
        "            landmark = landmark_detector(image, rect)  # Detect face landmarks\n",
        "            landmark = shape_to_list(landmark)\n",
        "            landmark_buffer.append(landmark)\n",
        "\n",
        "        cropped_buffer = []\n",
        "        for (i, landmark) in enumerate(landmark_buffer):\n",
        "            lip_landmark = landmark[48:68]  # Landmark corresponding to lip\n",
        "            lip_x = sorted(lip_landmark, key=lambda pointx: pointx[0])\n",
        "            lip_y = sorted(lip_landmark, key=lambda pointy: pointy[1])\n",
        "            x_add = int((-lip_x[0][0] + lip_x[-1][0]) * LIP_MARGIN)\n",
        "            y_add = int((-lip_y[0][1] + lip_y[-1][1]) * LIP_MARGIN)\n",
        "            crop_pos = (lip_x[0][0] - x_add, lip_x[-1][0] + x_add, lip_y[0][1] - y_add, lip_y[-1][1] + y_add)\n",
        "            cropped = frame_buffer_color[i][crop_pos[2]:crop_pos[3], crop_pos[0]:crop_pos[1]]\n",
        "            cropped = cv2.resize(cropped, (RESIZE[0], RESIZE[1]), interpolation=cv2.INTER_CUBIC)\n",
        "            cropped_buffer.append(cropped)\n",
        "\n",
        "        # Save results\n",
        "        label = vid_name.replace(\".mp4\", \"_\")\n",
        "        directory = RESULT_PATH + \"/\"\n",
        "        if not os.path.exists(directory):\n",
        "            os.makedirs(directory)\n",
        "\n",
        "        for (i, image) in enumerate(cropped_buffer):\n",
        "            cv2.imwrite(os.path.join(directory, \"%s%d\" % (label, (i + 1)) + \".jpg\"), image)\n",
        "\n",
        "        vid.release()\n"
      ],
      "metadata": {
        "id": "5Mbn8ldAll1Z"
      },
      "execution_count": null,
      "outputs": []
    }
  ]
}